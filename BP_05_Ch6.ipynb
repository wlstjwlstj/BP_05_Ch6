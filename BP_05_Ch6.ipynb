{
  "nbformat": 4,
  "nbformat_minor": 0,
  "metadata": {
    "colab": {
      "provenance": [],
      "authorship_tag": "ABX9TyNRByeVwSafX6XhuhOepMte",
      "include_colab_link": true
    },
    "kernelspec": {
      "name": "python3",
      "display_name": "Python 3"
    },
    "language_info": {
      "name": "python"
    }
  },
  "cells": [
    {
      "cell_type": "markdown",
      "metadata": {
        "id": "view-in-github",
        "colab_type": "text"
      },
      "source": [
        "<a href=\"https://colab.research.google.com/github/wlstjwlstj/BP_05_Ch6/blob/main/BP_05_Ch6.ipynb\" target=\"_parent\"><img src=\"https://colab.research.google.com/assets/colab-badge.svg\" alt=\"Open In Colab\"/></a>"
      ]
    },
    {
      "cell_type": "markdown",
      "source": [
        "1. 2부터 100 사이의 모든 짝수를 출력하는 반복 루프를 작성한다."
      ],
      "metadata": {
        "id": "-pohIymM-XtE"
      }
    },
    {
      "cell_type": "code",
      "source": [
        "for i in range(2,101,1):  #2부터 100까지 1씩커짐\n",
        "    if i%2==0:            #2로 나눈 나머지가 0이면 짝수\n",
        "      print(i,end=\" \")"
      ],
      "metadata": {
        "colab": {
          "base_uri": "https://localhost:8080/"
        },
        "id": "JSw38Xn1-kNc",
        "outputId": "014e32e4-66ae-4469-9a03-740761d4724e"
      },
      "execution_count": null,
      "outputs": [
        {
          "output_type": "stream",
          "name": "stdout",
          "text": [
            "2 4 6 8 10 12 14 16 18 20 22 24 26 28 30 32 34 36 38 40 42 44 46 48 50 52 54 56 58 60 62 64 66 68 70 72 74 76 78 80 82 84 86 88 90 92 94 96 98 100 "
          ]
        }
      ]
    },
    {
      "cell_type": "markdown",
      "source": [
        "2. 어떤 사람이 복리이자율 7%로 1000만원을 저금했을 경우에 2000만원이 되는데 몇 년이 걸리는지 계산하기 위하여 다음과 같이 코드를 작성하였다. 잘못된 점은 없는지 체크해보자."
      ],
      "metadata": {
        "id": "5cJD_gn5-km1"
      }
    },
    {
      "cell_type": "code",
      "source": [
        "year=0\n",
        "balance=1000\n",
        "#while문은 조건이 참이면 반복하므로 \n",
        "#조건문을 balance<=2000:\n",
        "while balance <=2000:\n",
        "  year=year+1\n",
        "  interest=balance*0.07      #이자금액\n",
        "  balance=balance+interest   #원금+ 이자금액\n",
        "print(year,\"년이 걸립니다.\")"
      ],
      "metadata": {
        "colab": {
          "base_uri": "https://localhost:8080/"
        },
        "id": "kPw05J5b-5pe",
        "outputId": "73614efe-d666-4cc1-ae75-f6bd76a612e0"
      },
      "execution_count": 1,
      "outputs": [
        {
          "output_type": "stream",
          "name": "stdout",
          "text": [
            "11 년이 걸립니다.\n"
          ]
        }
      ]
    },
    {
      "cell_type": "markdown",
      "source": [
        "3. 다음 코드의 출력을 예상해보자. 각 단계에서 변수의 값을 예상해보시오."
      ],
      "metadata": {
        "id": "FVaC1upV-55b"
      }
    },
    {
      "cell_type": "code",
      "source": [
        "n=1234\n",
        "sum=0\n",
        "while n>0:    #n이 0보다 크면 참이므로 계속 반복\n",
        "  digit=n%10  #10으로 나눈 나머지로 마지막 자리의 숫자 추출\n",
        "  sum=sum+digit\n",
        "  n=n//10     #10으로 나눠 자리수 줄임\n",
        "print(sum)"
      ],
      "metadata": {
        "colab": {
          "base_uri": "https://localhost:8080/"
        },
        "id": "j_I5Bh2N_AZ8",
        "outputId": "d7c04d5a-12d9-474a-8729-01f0238bc6e3"
      },
      "execution_count": null,
      "outputs": [
        {
          "output_type": "stream",
          "name": "stdout",
          "text": [
            "10\n"
          ]
        }
      ]
    },
    {
      "cell_type": "markdown",
      "source": [
        "4. 사용자에게 곱셈 퀴즈를 내고 사용자로부터 답을 받는 프로그램에서 사용자가 올바른 답을 입력할 때까지 반복하도록 수정하여 보자."
      ],
      "metadata": {
        "id": "mI2NGL4Q_Ahb"
      }
    },
    {
      "cell_type": "code",
      "source": [
        "ans=3*9                  #답 저장\n",
        "while n!=ans:            #입력받은 수와 답이 다르면 반복\n",
        "  n=int(input(\"3*9는\"))  #사용자로부터 답 입력받음\n",
        "print(\"맞았습니다.\")"
      ],
      "metadata": {
        "colab": {
          "base_uri": "https://localhost:8080/"
        },
        "id": "1QVF34Tu_OtU",
        "outputId": "941b830b-aa52-42b0-8296-7890b1409268"
      },
      "execution_count": null,
      "outputs": [
        {
          "output_type": "stream",
          "name": "stdout",
          "text": [
            "3*9는25\n",
            "3*9는27\n",
            "맞았습니다.\n"
          ]
        }
      ]
    },
    {
      "cell_type": "markdown",
      "source": [
        "5. 사용자가 입력한 정수의 합을 계산하는 프로그램을 작성하자. 사용자가 0을 입력하기 전까지 정수를 계속하여 읽도록 한다."
      ],
      "metadata": {
        "id": "KIn1fGjk_O9L"
      }
    },
    {
      "cell_type": "code",
      "source": [
        "sum=0\n",
        "while True:                              #무한 반복\n",
        "    n=int(input(\"정수를 입력하시오: \"))  #사용자로부터 수 입력받음\n",
        "    sum+=n                               #입력받은 수들을 더함\n",
        "    if n==0:                             #입력받은 수가 0이면 참\n",
        "        print(\"합은\", sum, \"입니다.\")\n",
        "        break                            #조건이 맞으면 루프 빠져나감"
      ],
      "metadata": {
        "colab": {
          "base_uri": "https://localhost:8080/"
        },
        "id": "icHphJOp_YTU",
        "outputId": "b473b194-0af9-4b38-fc6a-c06cbb1b996e"
      },
      "execution_count": null,
      "outputs": [
        {
          "output_type": "stream",
          "name": "stdout",
          "text": [
            "정수를 입력하시오: 1\n",
            "정수를 입력하시오: 2\n",
            "정수를 입력하시오: 3\n",
            "정수를 입력하시오: 0\n",
            "합은 6 입니다.\n"
          ]
        }
      ]
    },
    {
      "cell_type": "markdown",
      "source": [
        "6. 난수 생성 함수를 사용해서 2개의 주사위를 던졌을 때 나오는 수를 다음과 같이 출력하여 보자."
      ],
      "metadata": {
        "id": "T98Y4OJC_Ygu"
      }
    },
    {
      "cell_type": "code",
      "source": [
        "import random\n",
        "for i in range(3):       #3번 반복\n",
        "  x=random.randint(1,6)  #1부터 6사이의 난수 발생\n",
        "  y=random.randint(1,6)\n",
        "  print(\"첫번째 주사위=\" ,x, \"두번째 주사위=\" ,y)"
      ],
      "metadata": {
        "id": "ArTng6hC_e5b",
        "colab": {
          "base_uri": "https://localhost:8080/"
        },
        "outputId": "2aad09bc-fc84-4d45-e71c-b05b2680eb98"
      },
      "execution_count": 1,
      "outputs": [
        {
          "output_type": "stream",
          "name": "stdout",
          "text": [
            "첫번째 주사위= 1 두번째 주사위= 1\n",
            "첫번째 주사위= 6 두번째 주사위= 4\n",
            "첫번째 주사위= 6 두번째 주사위= 6\n"
          ]
        }
      ]
    },
    {
      "cell_type": "markdown",
      "source": [
        "7. 터틀 그래픽과 반복을 사용하여 눈 모양을 그려보자."
      ],
      "metadata": {
        "id": "CAM8hoPR_fBL"
      }
    },
    {
      "cell_type": "code",
      "source": [
        "import turtle\n",
        "t=turtle.Turtle()\n",
        "t.shape(\"turtle\")\n",
        "t.pencolor(\"blue\")  #색상 파란색으로 설정\n",
        "t.left(30)\n",
        "for i in range(6):  #6번 반복\n",
        "    t.fd(100)  #앞으로 100이동\n",
        "    t.fd(-30)  #뒤로 30이동\n",
        "    t.lt(60)   #왼쪽으로 60도 회전\n",
        "    t.fd(30)   #앞으로 30이동\n",
        "    t.fd(-30)  #앞으로 -30이동\n",
        "    t.rt(120)  #오른쪽으로 120도 회전\n",
        "    t.fd(30)   #앞으로 30이동\n",
        "    t.fd(-30)  #앞으로 -30이동\n",
        "    t.lt(60)   #왼쪽으로 60도 회전\n",
        "    t.fd(-70)  #앞으로 -70이동\n",
        "    t.rt(60)   #오른쪽으로 60도 회전\n",
        "    "
      ],
      "metadata": {
        "id": "9BDCL_1u_kib"
      },
      "execution_count": null,
      "outputs": []
    },
    {
      "cell_type": "markdown",
      "source": [
        "8. 우리는 이번 장에서 터틀 그래픽으로 별을 그려보았다. 이 코드를 응용하여서 다음과 같이 10개의 별을 그리는 프로그램을 작성하라. 별들은 시작 각도가 약간씩 다르다."
      ],
      "metadata": {
        "id": "1x3MCL1C_kvT"
      }
    },
    {
      "cell_type": "code",
      "source": [
        "import turtle\n",
        "t=turtle.Turtle()\n",
        "t.pencolor(\"red\")       #색상 빨간색으로 설정\n",
        "t.left(150)             #왼쪽으로 150도 회전\n",
        "for i in range(10):     #10번 반복\n",
        "    for j in range(5):  #중첩하여 5번 반복\n",
        "        t.fd(100)  \n",
        "        t.lt(144)       #별 모양 그림\n",
        "    t.lt(10)            #왼쪽으로 10도 이동"
      ],
      "metadata": {
        "id": "owP6eQkM_3MT"
      },
      "execution_count": null,
      "outputs": []
    },
    {
      "cell_type": "markdown",
      "source": [
        "9. 반복과 난수를 함께 사용하면 화면에 랜덤한 원을 그릴 수 있다. 화면에 10개의 랜덤한 원을 그리는 프로그램을 작성하라. 원의 중심과 반지름이 모두 난수이어야 한다."
      ],
      "metadata": {
        "id": "TJINu7os_3cj"
      }
    },
    {
      "cell_type": "code",
      "source": [
        "import random\n",
        "import turtle\n",
        "t=turtle.Turtle()\n",
        "t.shape(\"turtle\")\n",
        "for i in range(10):          #10번 반복\n",
        "    x=random.randint(1,100)  #1부터 100사이의 난수 발생\n",
        "    y=random.randint(1,100)  #1부터 100사이의 난수 발생\n",
        "    r=random.randint(1,100)  #1부터 100사이의 난수 발생\n",
        "    t.up()                   #펜 들음\n",
        "    t.goto(x,y)              #난수의 좌표로 이동\n",
        "    t.down()                 #펜 놓음\n",
        "    t.circle(r)              #난수의 크기로 그림\n"
      ],
      "metadata": {
        "id": "m9VzMlwTALCq"
      },
      "execution_count": null,
      "outputs": []
    },
    {
      "cell_type": "markdown",
      "source": [
        "10. 다음과 같이 거북이를 왕복 달리기시키는 프로그램을 작성해보자."
      ],
      "metadata": {
        "id": "0_kP9SRsALKC"
      }
    },
    {
      "cell_type": "code",
      "source": [
        "import turtle\n",
        "t=turtle.Turtle()\n",
        "t.shape(\"turtle\")\n",
        "for i in range(5):  #5번 반복\n",
        "    t.fd(200)  #앞으로 200이동\n",
        "    t.rt(90)   #오른쪽으로 90도 회전\n",
        "    t.fd(20)   #앞으로 20이동\n",
        "    t.rt(90)   #오른쪽으로 90도 회전\n",
        "    t.fd(200)  #앞으로 200이동\n",
        "    t.lt(90)   #왼쪽으로 90도 회전\n",
        "    t.fd(20)   #앞으로 20이동\n",
        "    t.lt(90)   #왼쪽으로 90도 회전"
      ],
      "metadata": {
        "id": "T871XB6vAP1L"
      },
      "execution_count": null,
      "outputs": []
    },
    {
      "cell_type": "markdown",
      "source": [
        "11. 다음의 터틀 그래픽 프로그램을 분석해보자. 학습하지 않은 함수가 있다면 인터넷에서 조사하여 보자."
      ],
      "metadata": {
        "id": "5s6O_eAHAP-6"
      }
    },
    {
      "cell_type": "code",
      "source": [
        "import turtle\n",
        "t=turtle.Turtle()\n",
        "t.shape(\"turtle\")\n",
        "t.color(\"red\", \"yellow\")  #선색상을 빨간색으로, 채우기색상은 노란색으로 설정\n",
        "t.begin_fill()            #면 색칠 시작\n",
        "while True:\n",
        "    t.fd(200)\n",
        "    t.lt(170)\n",
        "    if abs(t.pos())<1:   #abs()는 절댓값을 계산, pos()는 거북이의 좌표 변환\n",
        "        break            #좌표의 절대값이 1미만이면 루프 빠져나옴\n",
        "t.end_fill()             #색칠하기 종료"
      ],
      "metadata": {
        "id": "WtQFErubAf3b"
      },
      "execution_count": null,
      "outputs": []
    },
    {
      "cell_type": "markdown",
      "source": [
        "12. 터틀 그래픽과 반복을 사용하여 싸인(sine) 그래프를 그려보자. 거북이를 싸인값에 따라서 움직이면 된다."
      ],
      "metadata": {
        "id": "Qcc4WLzdAgM7"
      }
    },
    {
      "cell_type": "code",
      "source": [
        "import math\n",
        "import turtle\n",
        "t=turtle.Turtle()\n",
        "t.shape(\"turtle\")\n",
        "t.color(\"red\", \"yellow\")  #선색상을 빨간색으로, 채우기색상은 노란색으로 설정\n",
        "for x in range(360):\n",
        "    t.goto(x,200*math.sin(x*3.14/180))\n",
        "\n",
        "#sin함수로 싸인값 계산\n",
        "#각도를 라디안으로 변환 radian=3.14*degree/180.0"
      ],
      "metadata": {
        "id": "wSSfxKWnAuED"
      },
      "execution_count": null,
      "outputs": []
    }
  ]
}